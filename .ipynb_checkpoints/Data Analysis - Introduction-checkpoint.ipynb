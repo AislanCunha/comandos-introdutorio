{
 "cells": [
  {
   "cell_type": "markdown",
   "id": "0eb28569",
   "metadata": {},
   "source": [
    "# Importar os dados e os primeiros comandos"
   ]
  },
  {
   "cell_type": "markdown",
   "id": "634a2143",
   "metadata": {},
   "source": [
    "### Importar as bibliotecas para trabalhar"
   ]
  },
  {
   "cell_type": "code",
   "execution_count": 6,
   "id": "245411b4",
   "metadata": {},
   "outputs": [],
   "source": [
    "import pandas as pd\n",
    "import scipy.stats as stats\n",
    "import numpy as np\n",
    "import scipy as scipy\n",
    "import matplotlib.pyplot as plt"
   ]
  },
  {
   "cell_type": "markdown",
   "id": "e8ec6ea2",
   "metadata": {},
   "source": [
    "### Importar a planilha de dados"
   ]
  },
  {
   "cell_type": "code",
   "execution_count": 7,
   "id": "8f86810f",
   "metadata": {},
   "outputs": [],
   "source": [
    "data = pd.read_csv('fire_year_Brazil.csv')"
   ]
  },
  {
   "cell_type": "markdown",
   "id": "6979d12b",
   "metadata": {},
   "source": [
    "### Análise preliminar dos dados"
   ]
  },
  {
   "cell_type": "code",
   "execution_count": 5,
   "id": "c417955f",
   "metadata": {},
   "outputs": [
    {
     "data": {
      "text/plain": [
       "(20, 3)"
      ]
     },
     "execution_count": 5,
     "metadata": {},
     "output_type": "execute_result"
    }
   ],
   "source": [
    "data.shape #Verifica o número de linha (20) e colunas (3)"
   ]
  },
  {
   "cell_type": "code",
   "execution_count": 4,
   "id": "ac6a49b9",
   "metadata": {},
   "outputs": [
    {
     "data": {
      "text/html": [
       "<div>\n",
       "<style scoped>\n",
       "    .dataframe tbody tr th:only-of-type {\n",
       "        vertical-align: middle;\n",
       "    }\n",
       "\n",
       "    .dataframe tbody tr th {\n",
       "        vertical-align: top;\n",
       "    }\n",
       "\n",
       "    .dataframe thead th {\n",
       "        text-align: right;\n",
       "    }\n",
       "</style>\n",
       "<table border=\"1\" class=\"dataframe\">\n",
       "  <thead>\n",
       "    <tr style=\"text-align: right;\">\n",
       "      <th></th>\n",
       "      <th>Unnamed: 0</th>\n",
       "      <th>Year</th>\n",
       "      <th>Fire</th>\n",
       "    </tr>\n",
       "  </thead>\n",
       "  <tbody>\n",
       "    <tr>\n",
       "      <th>count</th>\n",
       "      <td>20.00000</td>\n",
       "      <td>20.00000</td>\n",
       "      <td>20.000000</td>\n",
       "    </tr>\n",
       "    <tr>\n",
       "      <th>mean</th>\n",
       "      <td>10.50000</td>\n",
       "      <td>2007.50000</td>\n",
       "      <td>182318.250000</td>\n",
       "    </tr>\n",
       "    <tr>\n",
       "      <th>std</th>\n",
       "      <td>5.91608</td>\n",
       "      <td>5.91608</td>\n",
       "      <td>57262.194096</td>\n",
       "    </tr>\n",
       "    <tr>\n",
       "      <th>min</th>\n",
       "      <td>1.00000</td>\n",
       "      <td>1998.00000</td>\n",
       "      <td>101537.000000</td>\n",
       "    </tr>\n",
       "    <tr>\n",
       "      <th>25%</th>\n",
       "      <td>5.75000</td>\n",
       "      <td>2002.75000</td>\n",
       "      <td>130788.750000</td>\n",
       "    </tr>\n",
       "    <tr>\n",
       "      <th>50%</th>\n",
       "      <td>10.50000</td>\n",
       "      <td>2007.50000</td>\n",
       "      <td>178484.000000</td>\n",
       "    </tr>\n",
       "    <tr>\n",
       "      <th>75%</th>\n",
       "      <td>15.25000</td>\n",
       "      <td>2012.25000</td>\n",
       "      <td>235936.750000</td>\n",
       "    </tr>\n",
       "    <tr>\n",
       "      <th>max</th>\n",
       "      <td>20.00000</td>\n",
       "      <td>2017.00000</td>\n",
       "      <td>270384.000000</td>\n",
       "    </tr>\n",
       "  </tbody>\n",
       "</table>\n",
       "</div>"
      ],
      "text/plain": [
       "       Unnamed: 0        Year           Fire\n",
       "count    20.00000    20.00000      20.000000\n",
       "mean     10.50000  2007.50000  182318.250000\n",
       "std       5.91608     5.91608   57262.194096\n",
       "min       1.00000  1998.00000  101537.000000\n",
       "25%       5.75000  2002.75000  130788.750000\n",
       "50%      10.50000  2007.50000  178484.000000\n",
       "75%      15.25000  2012.25000  235936.750000\n",
       "max      20.00000  2017.00000  270384.000000"
      ]
     },
     "execution_count": 4,
     "metadata": {},
     "output_type": "execute_result"
    }
   ],
   "source": [
    "data.describe() #Verifica os valores médios (mean), Desvio padrão (std), valores mínimos (min), quartis (25%, 50% e 75%) e \n",
    "#os valores máximos."
   ]
  },
  {
   "cell_type": "code",
   "execution_count": 10,
   "id": "3d8d7792",
   "metadata": {},
   "outputs": [
    {
     "name": "stdout",
     "output_type": "stream",
     "text": [
      "    Unnamed: 0  Year    Fire\n",
      "0            1  1998  123894\n",
      "1            2  1999  134603\n",
      "2            3  2000  101537\n",
      "3            4  2001  145567\n",
      "4            5  2002  235792\n",
      "5            6  2003  235242\n",
      "6            7  2004  270384\n",
      "7            8  2005  240764\n",
      "8            9  2006  136890\n",
      "9           10  2007  231252\n",
      "10          11  2008  123249\n",
      "11          12  2009  123211\n",
      "12          13  2010  249291\n",
      "13          14  2011  133087\n",
      "14          15  2012  193838\n",
      "15          16  2013  115220\n",
      "16          17  2014  183693\n",
      "17          18  2015  236371\n",
      "18          19  2016  173275\n",
      "19          20  2017  259205\n"
     ]
    }
   ],
   "source": [
    "print(data) #apresenta toda a tabela"
   ]
  },
  {
   "cell_type": "markdown",
   "id": "78b7932b",
   "metadata": {},
   "source": [
    "# gráfico box-plot"
   ]
  },
  {
   "cell_type": "code",
   "execution_count": 12,
   "id": "823bbd8a",
   "metadata": {},
   "outputs": [
    {
     "data": {
      "text/plain": [
       "{'whiskers': [<matplotlib.lines.Line2D at 0x24a17f3bdf0>,\n",
       "  <matplotlib.lines.Line2D at 0x24a17f56100>,\n",
       "  <matplotlib.lines.Line2D at 0x24a17f636d0>,\n",
       "  <matplotlib.lines.Line2D at 0x24a17f63a60>,\n",
       "  <matplotlib.lines.Line2D at 0x24a17f7b040>,\n",
       "  <matplotlib.lines.Line2D at 0x24a17f7b3d0>],\n",
       " 'caps': [<matplotlib.lines.Line2D at 0x24a17f56490>,\n",
       "  <matplotlib.lines.Line2D at 0x24a17f56820>,\n",
       "  <matplotlib.lines.Line2D at 0x24a17f63df0>,\n",
       "  <matplotlib.lines.Line2D at 0x24a17f5f1c0>,\n",
       "  <matplotlib.lines.Line2D at 0x24a17f7b760>,\n",
       "  <matplotlib.lines.Line2D at 0x24a17f7baf0>],\n",
       " 'boxes': [<matplotlib.lines.Line2D at 0x24a17f3b9a0>,\n",
       "  <matplotlib.lines.Line2D at 0x24a17f63340>,\n",
       "  <matplotlib.lines.Line2D at 0x24a17f5fc70>],\n",
       " 'medians': [<matplotlib.lines.Line2D at 0x24a17f56bb0>,\n",
       "  <matplotlib.lines.Line2D at 0x24a17f5f550>,\n",
       "  <matplotlib.lines.Line2D at 0x24a17f7be80>],\n",
       " 'fliers': [<matplotlib.lines.Line2D at 0x24a17f56f40>,\n",
       "  <matplotlib.lines.Line2D at 0x24a17f5f8e0>,\n",
       "  <matplotlib.lines.Line2D at 0x24a17f85250>],\n",
       " 'means': []}"
      ]
     },
     "execution_count": 12,
     "metadata": {},
     "output_type": "execute_result"
    },
    {
     "data": {
      "image/png": "[encoded data removed]",
      "text/plain": [
       "<Figure size 432x288 with 1 Axes>"
      ]
     },
     "metadata": {
      "needs_background": "light"
     },
     "output_type": "display_data"
    }
   ],
   "source": [
    "plt.boxplot(data) #função para construção de um box-plot"
   ]
  },
  {
   "cell_type": "markdown",
   "id": "5eb80f90",
   "metadata": {},
   "source": [
    "# Gráfico de barras"
   ]
  },
  {
   "cell_type": "code",
   "execution_count": 14,
   "id": "96b624aa",
   "metadata": {},
   "outputs": [],
   "source": [
    "x = data['Year'] #para fazer um gráfico de barras é necessário extrair os valores de 'x' e 'y'"
   ]
  },
  {
   "cell_type": "code",
   "execution_count": 15,
   "id": "ee3c4e72",
   "metadata": {},
   "outputs": [
    {
     "name": "stdout",
     "output_type": "stream",
     "text": [
      "0     1998\n",
      "1     1999\n",
      "2     2000\n",
      "3     2001\n",
      "4     2002\n",
      "5     2003\n",
      "6     2004\n",
      "7     2005\n",
      "8     2006\n",
      "9     2007\n",
      "10    2008\n",
      "11    2009\n",
      "12    2010\n",
      "13    2011\n",
      "14    2012\n",
      "15    2013\n",
      "16    2014\n",
      "17    2015\n",
      "18    2016\n",
      "19    2017\n",
      "Name: Year, dtype: int64\n"
     ]
    }
   ],
   "source": [
    "print(x)"
   ]
  },
  {
   "cell_type": "code",
   "execution_count": 16,
   "id": "c221a720",
   "metadata": {},
   "outputs": [],
   "source": [
    "y = data ['Fire']"
   ]
  },
  {
   "cell_type": "code",
   "execution_count": 17,
   "id": "da1de569",
   "metadata": {},
   "outputs": [
    {
     "name": "stdout",
     "output_type": "stream",
     "text": [
      "0     123894\n",
      "1     134603\n",
      "2     101537\n",
      "3     145567\n",
      "4     235792\n",
      "5     235242\n",
      "6     270384\n",
      "7     240764\n",
      "8     136890\n",
      "9     231252\n",
      "10    123249\n",
      "11    123211\n",
      "12    249291\n",
      "13    133087\n",
      "14    193838\n",
      "15    115220\n",
      "16    183693\n",
      "17    236371\n",
      "18    173275\n",
      "19    259205\n",
      "Name: Fire, dtype: int64\n"
     ]
    }
   ],
   "source": [
    "print(y)"
   ]
  },
  {
   "cell_type": "code",
   "execution_count": 21,
   "id": "fc6f3cba",
   "metadata": {},
   "outputs": [
    {
     "data": {
      "text/plain": [
       "<BarContainer object of 20 artists>"
      ]
     },
     "execution_count": 21,
     "metadata": {},
     "output_type": "execute_result"
    },
    {
     "data": {
      "image/png": "[encoded data removed]",
      "text/plain": [
       "<Figure size 1080x432 with 1 Axes>"
      ]
     },
     "metadata": {
      "needs_background": "light"
     },
     "output_type": "display_data"
    }
   ],
   "source": [
    "plt.figure(figsize=(15, 6)) #função para alterar o tamanho do gráfico.\n",
    "plt.bar(x, y)#função para plotar o gráfico de barras"
   ]
  },
  {
   "cell_type": "markdown",
   "id": "7be9e28e",
   "metadata": {},
   "source": [
    "#### OBS.01: para extrair os valores de 'x e 'y' posso plotar o valor de => x=data['Year'], y=data['Fire'];\n",
    "#### OBS.02: para ordenar os valores da tabela por uma coluna, uso => df.sort_values(by = 'Year', ascending = false)"
   ]
  },
  {
   "cell_type": "markdown",
   "id": "dd3ebff1",
   "metadata": {},
   "source": [
    "# Gráfico de linhas"
   ]
  },
  {
   "cell_type": "code",
   "execution_count": 25,
   "id": "fc2a962a",
   "metadata": {},
   "outputs": [
    {
     "data": {
      "image/png": "[encoded data removed]",
      "text/plain": [
       "<Figure size 1080x360 with 1 Axes>"
      ]
     },
     "metadata": {
      "needs_background": "light"
     },
     "output_type": "display_data"
    }
   ],
   "source": [
    "plt.figure(figsize=(15, 5))\n",
    "plt.plot(x, y) #para plotar os gráficos de linhas é necessário os valores de 'x' e 'y'\n",
    "plt.show()"
   ]
  },
  {
   "cell_type": "code",
   "execution_count": null,
   "id": "57e2f2ef",
   "metadata": {},
   "outputs": [],
   "source": []
  }
 ],
 "metadata": {
  "kernelspec": {
   "display_name": "Python 3 (ipykernel)",
   "language": "python",
   "name": "python3"
  },
  "language_info": {
   "codemirror_mode": {
    "name": "ipython",
    "version": 3
   },
   "file_extension": ".py",
   "mimetype": "text/x-python",
   "name": "python",
   "nbconvert_exporter": "python",
   "pygments_lexer": "ipython3",
   "version": "3.9.7"
  }
 },
 "nbformat": 4,
 "nbformat_minor": 5
}
