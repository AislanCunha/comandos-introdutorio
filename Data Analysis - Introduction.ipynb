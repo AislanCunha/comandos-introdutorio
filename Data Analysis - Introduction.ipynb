{
 "cells": [
  {
   "cell_type": "markdown",
   "id": "0eb28569",
   "metadata": {},
   "source": [
    "# How to import the data and run the first commands"
   ]
  },
  {
   "cell_type": "markdown",
   "id": "634a2143",
   "metadata": {},
   "source": [
    "### How to import the libraries to start the builds"
   ]
  },
  {
   "cell_type": "code",
   "execution_count": 6,
   "id": "245411b4",
   "metadata": {},
   "outputs": [],
   "source": [
    "import pandas as pd\n",
    "import scipy.stats as stats\n",
    "import numpy as np\n",
    "import scipy as scipy\n",
    "import matplotlib.pyplot as plt"
   ]
  },
  {
   "cell_type": "markdown",
   "id": "e8ec6ea2",
   "metadata": {},
   "source": [
    "### Importar a planilha de dados"
   ]
  },
  {
   "cell_type": "code",
   "execution_count": 7,
   "id": "8f86810f",
   "metadata": {},
   "outputs": [],
   "source": [
    "data = pd.read_csv('fire_year_Brazil.csv')"
   ]
  },
  {
   "cell_type": "markdown",
   "id": "6979d12b",
   "metadata": {},
   "source": [
    "### Preliminary data analysis"
   ]
  },
  {
   "cell_type": "code",
   "execution_count": 8,
   "id": "c417955f",
   "metadata": {},
   "outputs": [
    {
     "data": {
      "text/plain": [
       "(20, 3)"
      ]
     },
     "execution_count": 8,
     "metadata": {},
     "output_type": "execute_result"
    }
   ],
   "source": [
    "data.shape #Checks the number of rows (20) and columns (3) in the dataset."
   ]
  },
  {
   "cell_type": "code",
   "execution_count": 19,
   "id": "0907d1d7",
   "metadata": {},
   "outputs": [
    {
     "data": {
      "text/html": [
       "<div>\n",
       "<style scoped>\n",
       "    .dataframe tbody tr th:only-of-type {\n",
       "        vertical-align: middle;\n",
       "    }\n",
       "\n",
       "    .dataframe tbody tr th {\n",
       "        vertical-align: top;\n",
       "    }\n",
       "\n",
       "    .dataframe thead th {\n",
       "        text-align: right;\n",
       "    }\n",
       "</style>\n",
       "<table border=\"1\" class=\"dataframe\">\n",
       "  <thead>\n",
       "    <tr style=\"text-align: right;\">\n",
       "      <th></th>\n",
       "      <th>Unnamed: 0</th>\n",
       "      <th>Year</th>\n",
       "      <th>Fire</th>\n",
       "    </tr>\n",
       "  </thead>\n",
       "  <tbody>\n",
       "    <tr>\n",
       "      <th>0</th>\n",
       "      <td>1</td>\n",
       "      <td>1998</td>\n",
       "      <td>123894</td>\n",
       "    </tr>\n",
       "    <tr>\n",
       "      <th>1</th>\n",
       "      <td>2</td>\n",
       "      <td>1999</td>\n",
       "      <td>134603</td>\n",
       "    </tr>\n",
       "    <tr>\n",
       "      <th>2</th>\n",
       "      <td>3</td>\n",
       "      <td>2000</td>\n",
       "      <td>101537</td>\n",
       "    </tr>\n",
       "    <tr>\n",
       "      <th>3</th>\n",
       "      <td>4</td>\n",
       "      <td>2001</td>\n",
       "      <td>145567</td>\n",
       "    </tr>\n",
       "    <tr>\n",
       "      <th>4</th>\n",
       "      <td>5</td>\n",
       "      <td>2002</td>\n",
       "      <td>235792</td>\n",
       "    </tr>\n",
       "  </tbody>\n",
       "</table>\n",
       "</div>"
      ],
      "text/plain": [
       "   Unnamed: 0  Year    Fire\n",
       "0           1  1998  123894\n",
       "1           2  1999  134603\n",
       "2           3  2000  101537\n",
       "3           4  2001  145567\n",
       "4           5  2002  235792"
      ]
     },
     "execution_count": 19,
     "metadata": {},
     "output_type": "execute_result"
    }
   ],
   "source": [
    "data.head()#shows the first five lines or inside the parentheses '()' put the desired value"
   ]
  },
  {
   "cell_type": "code",
   "execution_count": 9,
   "id": "ac6a49b9",
   "metadata": {},
   "outputs": [
    {
     "data": {
      "text/html": [
       "<div>\n",
       "<style scoped>\n",
       "    .dataframe tbody tr th:only-of-type {\n",
       "        vertical-align: middle;\n",
       "    }\n",
       "\n",
       "    .dataframe tbody tr th {\n",
       "        vertical-align: top;\n",
       "    }\n",
       "\n",
       "    .dataframe thead th {\n",
       "        text-align: right;\n",
       "    }\n",
       "</style>\n",
       "<table border=\"1\" class=\"dataframe\">\n",
       "  <thead>\n",
       "    <tr style=\"text-align: right;\">\n",
       "      <th></th>\n",
       "      <th>Unnamed: 0</th>\n",
       "      <th>Year</th>\n",
       "      <th>Fire</th>\n",
       "    </tr>\n",
       "  </thead>\n",
       "  <tbody>\n",
       "    <tr>\n",
       "      <th>count</th>\n",
       "      <td>20.00000</td>\n",
       "      <td>20.00000</td>\n",
       "      <td>20.000000</td>\n",
       "    </tr>\n",
       "    <tr>\n",
       "      <th>mean</th>\n",
       "      <td>10.50000</td>\n",
       "      <td>2007.50000</td>\n",
       "      <td>182318.250000</td>\n",
       "    </tr>\n",
       "    <tr>\n",
       "      <th>std</th>\n",
       "      <td>5.91608</td>\n",
       "      <td>5.91608</td>\n",
       "      <td>57262.194096</td>\n",
       "    </tr>\n",
       "    <tr>\n",
       "      <th>min</th>\n",
       "      <td>1.00000</td>\n",
       "      <td>1998.00000</td>\n",
       "      <td>101537.000000</td>\n",
       "    </tr>\n",
       "    <tr>\n",
       "      <th>25%</th>\n",
       "      <td>5.75000</td>\n",
       "      <td>2002.75000</td>\n",
       "      <td>130788.750000</td>\n",
       "    </tr>\n",
       "    <tr>\n",
       "      <th>50%</th>\n",
       "      <td>10.50000</td>\n",
       "      <td>2007.50000</td>\n",
       "      <td>178484.000000</td>\n",
       "    </tr>\n",
       "    <tr>\n",
       "      <th>75%</th>\n",
       "      <td>15.25000</td>\n",
       "      <td>2012.25000</td>\n",
       "      <td>235936.750000</td>\n",
       "    </tr>\n",
       "    <tr>\n",
       "      <th>max</th>\n",
       "      <td>20.00000</td>\n",
       "      <td>2017.00000</td>\n",
       "      <td>270384.000000</td>\n",
       "    </tr>\n",
       "  </tbody>\n",
       "</table>\n",
       "</div>"
      ],
      "text/plain": [
       "       Unnamed: 0        Year           Fire\n",
       "count    20.00000    20.00000      20.000000\n",
       "mean     10.50000  2007.50000  182318.250000\n",
       "std       5.91608     5.91608   57262.194096\n",
       "min       1.00000  1998.00000  101537.000000\n",
       "25%       5.75000  2002.75000  130788.750000\n",
       "50%      10.50000  2007.50000  178484.000000\n",
       "75%      15.25000  2012.25000  235936.750000\n",
       "max      20.00000  2017.00000  270384.000000"
      ]
     },
     "execution_count": 9,
     "metadata": {},
     "output_type": "execute_result"
    }
   ],
   "source": [
    "data.describe() #Checks the mean values (mean), Standard deviation (std), minimum values (min), quartiles (25%, 50% and 75%) and\n",
    "#the maximum values."
   ]
  },
  {
   "cell_type": "code",
   "execution_count": 10,
   "id": "3d8d7792",
   "metadata": {},
   "outputs": [
    {
     "name": "stdout",
     "output_type": "stream",
     "text": [
      "    Unnamed: 0  Year    Fire\n",
      "0            1  1998  123894\n",
      "1            2  1999  134603\n",
      "2            3  2000  101537\n",
      "3            4  2001  145567\n",
      "4            5  2002  235792\n",
      "5            6  2003  235242\n",
      "6            7  2004  270384\n",
      "7            8  2005  240764\n",
      "8            9  2006  136890\n",
      "9           10  2007  231252\n",
      "10          11  2008  123249\n",
      "11          12  2009  123211\n",
      "12          13  2010  249291\n",
      "13          14  2011  133087\n",
      "14          15  2012  193838\n",
      "15          16  2013  115220\n",
      "16          17  2014  183693\n",
      "17          18  2015  236371\n",
      "18          19  2016  173275\n",
      "19          20  2017  259205\n"
     ]
    }
   ],
   "source": [
    "print(data) #display the entire table"
   ]
  },
  {
   "cell_type": "markdown",
   "id": "78b7932b",
   "metadata": {},
   "source": [
    "##  Box-plot graphic "
   ]
  },
  {
   "cell_type": "code",
   "execution_count": 16,
   "id": "823bbd8a",
   "metadata": {},
   "outputs": [
    {
     "data": {
      "image/png": "[encoded data removed]",
      "text/plain": [
       "<Figure size 432x288 with 1 Axes>"
      ]
     },
     "metadata": {
      "needs_background": "light"
     },
     "output_type": "display_data"
    }
   ],
   "source": [
    "plt.boxplot(data)#function for building a box-plot\n",
    "plt.show()"
   ]
  },
  {
   "cell_type": "markdown",
   "id": "5eb80f90",
   "metadata": {},
   "source": [
    "## Bar graphic"
   ]
  },
  {
   "cell_type": "code",
   "execution_count": 12,
   "id": "96b624aa",
   "metadata": {},
   "outputs": [],
   "source": [
    "x = data['Year'] #To make a bar graph it is necessary to extract the values of 'x' and 'y', from the data set.\n",
    "y = data['Fire']"
   ]
  },
  {
   "cell_type": "code",
   "execution_count": 21,
   "id": "fc6f3cba",
   "metadata": {},
   "outputs": [
    {
     "data": {
      "text/plain": [
       "<BarContainer object of 20 artists>"
      ]
     },
     "execution_count": 21,
     "metadata": {},
     "output_type": "execute_result"
    },
    {
     "data": {
      "image/png": "[encoded data removed]",
      "text/plain": [
       "<Figure size 1080x432 with 1 Axes>"
      ]
     },
     "metadata": {
      "needs_background": "light"
     },
     "output_type": "display_data"
    }
   ],
   "source": [
    "plt.figure(figsize=(15, 6)) #function to change the size of the graph;\n",
    "plt.bar(x, y)#function to plot the bar graphic"
   ]
  },
  {
   "cell_type": "markdown",
   "id": "7be9e28e",
   "metadata": {},
   "source": [
    "#### OBS.01: to extract the values of 'x and 'y' I can plot the value of => x=data['Year'], y=data['Fire'];\n",
    "#### OBS.02: to sort table values by a column, use => df.sort_values(by = 'Year', ascending = false)."
   ]
  },
  {
   "cell_type": "markdown",
   "id": "dd3ebff1",
   "metadata": {},
   "source": [
    "# Gráfico de linhas"
   ]
  },
  {
   "cell_type": "code",
   "execution_count": 18,
   "id": "fc2a962a",
   "metadata": {},
   "outputs": [
    {
     "data": {
      "image/png": "[encoded data removed]",
      "text/plain": [
       "<Figure size 1080x360 with 1 Axes>"
      ]
     },
     "metadata": {
      "needs_background": "light"
     },
     "output_type": "display_data"
    }
   ],
   "source": [
    "plt.figure(figsize=(15, 5)) #Adjust the size of the graphic;\n",
    "plt.title('Total fire per year')#Insert the Title of the graphic;\n",
    "plt.xlabel('Fires')#Inserts the 'x' axis label;\n",
    "plt.ylabel('Volume of fires')#Inserts the 'y' axis label;\n",
    "plt.plot(x,y, color='red')#Changes the color of the graphic;\n",
    "plt.plot(x,y, linestyle='--')#Change the style of the line;\n",
    "plt.plot(x,y, marker = 'o')#Inserts the meeting point of the 'x' and 'y' axes;\n",
    "plt.plot(x, y) #To plot the line graphic you need the values of 'x' and 'y'.\n",
    "plt.show()"
   ]
  },
  {
   "cell_type": "code",
   "execution_count": null,
   "id": "57e2f2ef",
   "metadata": {},
   "outputs": [],
   "source": []
  }
 ],
 "metadata": {
  "kernelspec": {
   "display_name": "Python 3 (ipykernel)",
   "language": "python",
   "name": "python3"
  },
  "language_info": {
   "codemirror_mode": {
    "name": "ipython",
    "version": 3
   },
   "file_extension": ".py",
   "mimetype": "text/x-python",
   "name": "python",
   "nbconvert_exporter": "python",
   "pygments_lexer": "ipython3",
   "version": "3.9.7"
  }
 },
 "nbformat": 4,
 "nbformat_minor": 5
}
